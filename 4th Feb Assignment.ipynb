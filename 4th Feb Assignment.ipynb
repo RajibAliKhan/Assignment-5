{
 "cells": [
  {
   "cell_type": "code",
   "execution_count": 8,
   "id": "6333d3cb-d09a-4cbb-989d-31d793eee7d3",
   "metadata": {},
   "outputs": [],
   "source": [
    "# Q1 answer :\n",
    "\n",
    "players = [('Sachin Tendulkar', 34357), ('Ricky Ponting', 27483), ('Jack Kallis', 25534), ('Virat Kohli', 24936)]"
   ]
  },
  {
   "cell_type": "code",
   "execution_count": 9,
   "id": "ff00e80f-59e6-4264-8528-59dd0896d926",
   "metadata": {},
   "outputs": [
    {
     "name": "stdout",
     "output_type": "stream",
     "text": [
      "[('Virat Kohli', 24936), ('Jack Kallis', 25534), ('Ricky Ponting', 27483), ('Sachin Tendulkar', 34357)]\n"
     ]
    }
   ],
   "source": [
    "sort_players = sorted(players, key = lambda x : x[1])\n",
    "print(sort_players)"
   ]
  },
  {
   "cell_type": "code",
   "execution_count": 14,
   "id": "5d7d9c2f-72e6-4e97-a797-701b6b513413",
   "metadata": {},
   "outputs": [],
   "source": [
    "# Q2 answer :\n",
    "\n",
    "# by using map and lambda :\n",
    "\n",
    "l = [1, 2, 3, 4, 5, 6, 7, 8, 9, 10]"
   ]
  },
  {
   "cell_type": "code",
   "execution_count": 15,
   "id": "a14cc538-b7c2-4a1a-9eaa-4c8036333250",
   "metadata": {},
   "outputs": [
    {
     "data": {
      "text/plain": [
       "[1, 4, 9, 16, 25, 36, 49, 64, 81, 100]"
      ]
     },
     "execution_count": 15,
     "metadata": {},
     "output_type": "execute_result"
    }
   ],
   "source": [
    "list(map(lambda x : x**2, l))"
   ]
  },
  {
   "cell_type": "code",
   "execution_count": 22,
   "id": "90ab3a5b-ddbd-4f9e-a1da-0b506e52ef0b",
   "metadata": {},
   "outputs": [],
   "source": [
    "# Q3 answer :\n",
    "\n",
    "l = [1, 2, 3, 4, 5, 6, 7, 8, 9, 10]"
   ]
  },
  {
   "cell_type": "code",
   "execution_count": 26,
   "id": "8a93984d-37b0-4556-a104-ffdc3a9509ce",
   "metadata": {},
   "outputs": [
    {
     "data": {
      "text/plain": [
       "('1', '2', '3', '4', '5', '6', '7', '8', '9', '10')"
      ]
     },
     "execution_count": 26,
     "metadata": {},
     "output_type": "execute_result"
    }
   ],
   "source": [
    "s = tuple(map(lambda x : str(x), l))\n",
    "s"
   ]
  },
  {
   "cell_type": "code",
   "execution_count": null,
   "id": "a22c7119-74dc-49b3-9349-87691374b172",
   "metadata": {},
   "outputs": [],
   "source": [
    "# Q4 answer :"
   ]
  },
  {
   "cell_type": "code",
   "execution_count": 11,
   "id": "b526b60a-4fad-4731-a505-350314e7e314",
   "metadata": {},
   "outputs": [],
   "source": [
    "from functools import reduce"
   ]
  },
  {
   "cell_type": "code",
   "execution_count": 12,
   "id": "c63bd643-7c66-4a05-b5a8-190323239469",
   "metadata": {},
   "outputs": [],
   "source": [
    "l1 = range(1,26)"
   ]
  },
  {
   "cell_type": "code",
   "execution_count": 31,
   "id": "86bc96bf-c840-4c13-a1d9-c3bd114e524c",
   "metadata": {},
   "outputs": [
    {
     "data": {
      "text/plain": [
       "15511210043330985984000000"
      ]
     },
     "execution_count": 31,
     "metadata": {},
     "output_type": "execute_result"
    }
   ],
   "source": [
    "reduce(lambda x,y : x * y, l1)"
   ]
  },
  {
   "cell_type": "code",
   "execution_count": 13,
   "id": "dc30edbe-8979-48b4-bcb0-6c2a131577b1",
   "metadata": {},
   "outputs": [
    {
     "data": {
      "text/plain": [
       "325"
      ]
     },
     "execution_count": 13,
     "metadata": {},
     "output_type": "execute_result"
    }
   ],
   "source": [
    "reduce(lambda x,y : x + y, l1)"
   ]
  },
  {
   "cell_type": "code",
   "execution_count": 2,
   "id": "f5b9398a-6321-42b5-bc93-0f2b6df26cda",
   "metadata": {},
   "outputs": [],
   "source": [
    "# Q5 answer :\n",
    "\n",
    "l2 = [2, 3, 6, 9, 27, 60, 90, 120, 55, 46]"
   ]
  },
  {
   "cell_type": "code",
   "execution_count": 5,
   "id": "28bea2c4-5d46-4807-9785-7bcd6741c082",
   "metadata": {},
   "outputs": [
    {
     "data": {
      "text/plain": [
       "[6, 60, 90, 120]"
      ]
     },
     "execution_count": 5,
     "metadata": {},
     "output_type": "execute_result"
    }
   ],
   "source": [
    "list(filter(lambda x : x % 2 == 0 and x % 3 == 0, l2))"
   ]
  },
  {
   "cell_type": "code",
   "execution_count": 6,
   "id": "28cd432b-5068-4927-9edf-015486709052",
   "metadata": {},
   "outputs": [],
   "source": [
    "# Q6 answer :\n",
    "\n",
    "l = ['python', 'php', 'aba', 'radar', 'level']"
   ]
  },
  {
   "cell_type": "code",
   "execution_count": 9,
   "id": "a37a7560-cfd6-4835-9e63-dd8c4a71b723",
   "metadata": {},
   "outputs": [
    {
     "data": {
      "text/plain": [
       "['php', 'aba', 'radar', 'level']"
      ]
     },
     "execution_count": 9,
     "metadata": {},
     "output_type": "execute_result"
    }
   ],
   "source": [
    "list(filter(lambda x : x == x[::-1], l))"
   ]
  },
  {
   "cell_type": "code",
   "execution_count": null,
   "id": "06a455e2-1e97-48a1-b594-8ec50a04ce93",
   "metadata": {},
   "outputs": [],
   "source": []
  }
 ],
 "metadata": {
  "kernelspec": {
   "display_name": "Python 3 (ipykernel)",
   "language": "python",
   "name": "python3"
  },
  "language_info": {
   "codemirror_mode": {
    "name": "ipython",
    "version": 3
   },
   "file_extension": ".py",
   "mimetype": "text/x-python",
   "name": "python",
   "nbconvert_exporter": "python",
   "pygments_lexer": "ipython3",
   "version": "3.10.8"
  }
 },
 "nbformat": 4,
 "nbformat_minor": 5
}
